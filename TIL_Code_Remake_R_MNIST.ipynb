{
  "nbformat": 4,
  "nbformat_minor": 0,
  "metadata": {
    "colab": {
      "provenance": []
    },
    "kernelspec": {
      "name": "python3",
      "display_name": "Python 3"
    },
    "language_info": {
      "name": "python"
    }
  },
  "cells": [
    {
      "cell_type": "markdown",
      "source": [
        "# TIL Code Remake\n",
        "### R-MNIST Dataset"
      ],
      "metadata": {
        "id": "byjBzFx37CM2"
      }
    },
    {
      "cell_type": "code",
      "execution_count": null,
      "metadata": {
        "id": "NDW0GhUG7AxE"
      },
      "outputs": [],
      "source": [
        "from os.path import isdir\n",
        "from os import mkdir\n",
        "import numpy as np\n",
        "import matplotlib.pyplot as plt\n",
        "import torch\n",
        "from torchvision import datasets\n",
        "from tqdm import tqdm"
      ]
    },
    {
      "cell_type": "code",
      "source": [
        "device_id = 0\n",
        "torch.cuda.set_device(device_id)\n",
        "device = 'cuda:' + str(device_id)\n",
        "print(device)"
      ],
      "metadata": {
        "id": "jybP5yiD7VeB"
      },
      "execution_count": null,
      "outputs": []
    },
    {
      "cell_type": "code",
      "source": [
        "datapath = './datasets'\n",
        "\n",
        "if not isdir(datapath):\n",
        "    mkdir(datapath)\n",
        "\n",
        "mnist_train = datasets.MNIST(datapath, train=True, download=True)\n",
        "x_train = mnist_train.data\n",
        "y_train = mnist_train.targets\n",
        "mnist_test = datasets.MNIST(datapath, train=False, download=True)\n",
        "x_test = mnist_test.data\n",
        "y_test = mnist_test.targets\n",
        "\n",
        "print('train x data before', x_train.size())\n",
        "print('test x data before', x_test.size())\n",
        "\n",
        "x_train = x_train.reshape(x_train.shape[0], -1)\n",
        "x_test = x_test.reshape(x_test.shape[0], -1)\n",
        "\n",
        "print('\\ntrain x data after', x_train.size())\n",
        "print('test x data after', x_test.size())\n",
        "\n",
        "print('\\ntrain y', y_train.size())\n",
        "print('test y', y_test.size())"
      ],
      "metadata": {
        "id": "8X1y89CB7fPe"
      },
      "execution_count": null,
      "outputs": []
    },
    {
      "cell_type": "code",
      "source": [
        "# allows the randomization to go through different seeds\n",
        "num_task = 20\n",
        "step = 100\n",
        "init = 100\n",
        "seeds = np.arange(init, num_task*step + init, step)\n",
        "\n",
        "# finds how many classes there are and makes an empty train_y\n",
        "n_class = len(np.unique(y_train))\n",
        "\n",
        "# changes each number from the labels in y_train\n",
        "# into 1's for the column in train_y that corresponds with the label\n",
        "# this allows train_y to have the labels encoded into 0's and 1's only\n",
        "train_y = np.zeros((len(y_train), n_class))\n",
        "for i in range(train_y.shape[0]):\n",
        "    train_y[i, y_train[i]] = 1\n",
        "\n",
        "# same thing done on test_y\n",
        "test_y = np.zeros((len(y_test), n_class))\n",
        "for i in range(test_y.shape[0]):\n",
        "    test_y[i, y_test[i]] = 1\n",
        "\n",
        "# Check shape of train and test y\n",
        "print('empty train y', train_y.shape)\n",
        "print('empty test y', test_y.shape)\n",
        "\n",
        "data = [[x_train, train_y]]\n",
        "data_test = [[x_test, test_y]]\n",
        "\n",
        "pixels = np.arange(x_train.shape[1])\n",
        "pixel_set = [pixels]\n",
        "\n",
        "for task in range(num_task - 1):\n",
        "    np.random.seed(seeds[task])\n",
        "    np.random.shuffle(pixels)\n",
        "    pixel_set.append(pixels)\n",
        "\n",
        "    x = x_train[:, pixels]\n",
        "    data.append([x, train_y])\n",
        "\n",
        "    x = x_test[:, pixels]\n",
        "    data_test.append([x, test_y])\n",
        "\n",
        "X_train, X_test = [], []\n",
        "Y_train, Y_test = [], []\n",
        "\n",
        "for task in range(num_task):\n",
        "    X_currTask_train = data[task][0].numpy()\n",
        "    Y_currTask_train = data[task][1]\n",
        "    X_currTask_test = data_test[task][0].numpy()\n",
        "    Y_currTask_test = data_test[task][1]\n",
        "\n",
        "    X_train.append(X_currTask_train)\n",
        "    X_test.append(X_currTask_test)\n",
        "    Y_train.append(Y_currTask_train)\n",
        "    Y_test.append(Y_currTask_test)\n",
        "\n",
        "X_train = np.asarray(X_train)\n",
        "X_train = np.reshape(X_train, (num_task, X_train.shape[1], X_train.shape[2]))\n",
        "X_test = np.asarray(X_test)\n",
        "X_test = np.reshape(X_test, (num_task, X_test.shape[1], X_test.shape[2]))\n",
        "Y_train = np.asarray(Y_train)\n",
        "Y_train = np.reshape(Y_train, (num_task, Y_train.shape[1], Y_train.shape[2]))\n",
        "Y_test = np.asarray(Y_test)\n",
        "Y_test = np.reshape(Y_test, (num_task, Y_test.shape[1], Y_test.shape[2]))\n",
        "\n",
        "print('train X', X_train.shape)\n",
        "print('test X', X_test.shape)\n",
        "print('train Y', Y_train.shape)\n",
        "print('test Y', Y_test.shape)"
      ],
      "metadata": {
        "id": "_zlr74Ql7kEx"
      },
      "execution_count": null,
      "outputs": []
    }
  ]
}